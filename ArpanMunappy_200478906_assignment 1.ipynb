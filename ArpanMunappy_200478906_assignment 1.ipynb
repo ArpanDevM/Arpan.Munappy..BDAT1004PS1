{
 "cells": [
  {
   "cell_type": "markdown",
   "id": "4a771d5c",
   "metadata": {},
   "source": [
    "# Problem Set 1"
   ]
  },
  {
   "cell_type": "markdown",
   "id": "93cb5c6d",
   "metadata": {},
   "source": [
    "Question 1\n",
    "What data type is each of the following (evaluate where necessary)?\n",
    "5 \n",
    "5.0\n",
    "5 > 1\n",
    "'5'\n",
    "5 * 2\n",
    "'5' * 2\n",
    "'5' + '2'\n",
    "5 / 2\n",
    "5 % 2\n",
    "{5, 2, 1}\n",
    "5 == 3\n",
    "Pi (the number)"
   ]
  },
  {
   "cell_type": "code",
   "execution_count": 7,
   "id": "77eeaf20",
   "metadata": {},
   "outputs": [
    {
     "name": "stdout",
     "output_type": "stream",
     "text": [
      "<class 'int'>\n",
      "<class 'float'>\n",
      "<class 'bool'>\n",
      "<class 'str'>\n",
      "<class 'int'>\n",
      "<class 'str'>\n",
      "<class 'str'>\n",
      "<class 'int'>\n",
      "<class 'set'>\n",
      "<class 'bool'>\n",
      "3.141592653589793\n",
      "<class 'float'>\n"
     ]
    }
   ],
   "source": [
    "import math\n",
    "print(type(5))\n",
    "print(type(5.0))\n",
    "print(type(5 > 1))\n",
    "print(type('5'))\n",
    "print(type(5 * 2))\n",
    "print(type('5' * 2))\n",
    "print(type('5' + '2'))\n",
    "print(type(5 % 2))\n",
    "print(type({5, 2, 1}))\n",
    "print(type(5 == 3))\n",
    "\n",
    "pi = math.pi\n",
    "print(pi)\n",
    "print(type(pi))\n",
    "\n",
    "\n"
   ]
  },
  {
   "cell_type": "markdown",
   "id": "06ccb790",
   "metadata": {},
   "source": [
    "# Question 2\n",
    "Write (and evaluate) python expressions that answer these questions:\n"
   ]
  },
  {
   "cell_type": "markdown",
   "id": "69f465a2",
   "metadata": {},
   "source": [
    "a. How many letters are there in 'Supercalifragilisticexpialidocious'?"
   ]
  },
  {
   "cell_type": "code",
   "execution_count": 9,
   "id": "3ed85c18",
   "metadata": {},
   "outputs": [
    {
     "name": "stdout",
     "output_type": "stream",
     "text": [
      "34\n"
     ]
    }
   ],
   "source": [
    "print(len('Supercalifragilisticexpialidocious'))"
   ]
  },
  {
   "cell_type": "markdown",
   "id": "a3d42d75",
   "metadata": {},
   "source": [
    "b. Does 'Supercalifragilisticexpialidocious' contain 'ice' as a substring? \n"
   ]
  },
  {
   "cell_type": "code",
   "execution_count": 12,
   "id": "f1d0b530",
   "metadata": {},
   "outputs": [
    {
     "name": "stdout",
     "output_type": "stream",
     "text": [
      "\"ice\" is a substring\n"
     ]
    }
   ],
   "source": [
    "a = 'Supercalifragilisticexpialidocious'\n",
    "if 'ice' in a:\n",
    "    print('\"ice\" is a substring')\n",
    "else:\n",
    "    print('not a substring')"
   ]
  },
  {
   "cell_type": "markdown",
   "id": "a544f1ec",
   "metadata": {},
   "source": [
    "c. Which of the following words is the longest: \n",
    "Supercalifragilisticexpialidocious, Honorificabilitudinitatibus, or \n",
    "Bababadalgharaghtakamminarronnkonn? "
   ]
  },
  {
   "cell_type": "code",
   "execution_count": 18,
   "id": "ae4e0b6b",
   "metadata": {},
   "outputs": [
    {
     "name": "stdout",
     "output_type": "stream",
     "text": [
      "Supercalifragilisticexpialidocious\n"
     ]
    },
    {
     "data": {
      "text/plain": [
       "34"
      ]
     },
     "execution_count": 18,
     "metadata": {},
     "output_type": "execute_result"
    }
   ],
   "source": [
    "a = 'Supercalifragilisticexpialidocious'\n",
    "b = 'Honorificabilitudinitatibus'\n",
    "c = 'Bababadalgharaghtakamminarronnkonn'\n",
    "print(max([a,b,c]))\n",
    "a = len('Supercalifragilisticexpialidocious')\n",
    "b = len('Honorificabilitudinitatibus')\n",
    "c = len('Bababadalgharaghtakamminarronnkonn')\n",
    "max([a,b,c])"
   ]
  },
  {
   "cell_type": "markdown",
   "id": "0620e7e9",
   "metadata": {},
   "source": [
    "d. Which composer comes first in the dictionary: 'Berlioz', 'Borodin', 'Brian', \n",
    "'Bartok', 'Bellini', 'Buxtehude', 'Bernstein'. Which one comes last?\n"
   ]
  },
  {
   "cell_type": "code",
   "execution_count": 23,
   "id": "f0a8eb39",
   "metadata": {},
   "outputs": [
    {
     "name": "stdout",
     "output_type": "stream",
     "text": [
      "['Bartok', 'Bellini', 'Berlioz', 'Bernstein', 'Borodin', 'Brian', 'Buxtehude']\n",
      "The composer which comes first in the dictionary is \"Bartok\" and the composer which comes last is \"Buxtehude\"\n"
     ]
    }
   ],
   "source": [
    "\n",
    "a = [ 'Berlioz', 'Borodin', 'Brian', 'Bartok', 'Bellini', 'Buxtehude', 'Bernstein']\n",
    "a.sort()\n",
    "print(a)\n",
    "print(f'The composer which comes first in the dictionary is \"{a[0]}\" and the composer which comes last is \"{a[6]}\"')"
   ]
  },
  {
   "cell_type": "markdown",
   "id": "a3052c29",
   "metadata": {},
   "source": [
    "# Question 3\n",
    "Implement function triangleArea(a,b,c) that takes as input the lengths of the 3\n",
    "sides of a triangle and returns the area of the triangle. By Heron's formula, the area \n",
    "of a triangle with side lengths a, b, and c is\n",
    "s(s - a)(s -b)(s -c)\n",
    ", where \n",
    "s = (a+b+c)/2."
   ]
  },
  {
   "cell_type": "code",
   "execution_count": 27,
   "id": "5fbedf98",
   "metadata": {},
   "outputs": [
    {
     "name": "stdout",
     "output_type": "stream",
     "text": [
      "1.7320508075688772\n"
     ]
    }
   ],
   "source": [
    "import math\n",
    "def  triangleArea(a,b,c):\n",
    "    s =(a+b+c)/2\n",
    "    area =math.sqrt(s*(s - a)*(s -b)*(s -c)) \n",
    "    print(area)\n",
    "\n",
    "    \n",
    "triangleArea(2,2,2)    \n",
    "    \n",
    "    "
   ]
  },
  {
   "cell_type": "markdown",
   "id": "25a86401",
   "metadata": {},
   "source": [
    "# Question 4\n",
    "Write a program in python to separate odd and even integers in separate arrays. Go \n",
    "to the editor\n",
    "Test Data :\n",
    "Input the number of elements to be stored in the array :5\n",
    "Input 5 elements in the array :\n",
    "element - 0 : 25\n",
    "element - 1 : 47\n",
    "element - 2 : 42\n",
    "element - 3 : 56\n",
    "element - 4 : 32\n",
    "Expected Output:\n",
    "The Even elements are:\n",
    "42 56 32\n",
    "The Odd elements are :\n",
    "25 47\n"
   ]
  },
  {
   "cell_type": "code",
   "execution_count": 31,
   "id": "3f6e0c92",
   "metadata": {},
   "outputs": [
    {
     "name": "stdout",
     "output_type": "stream",
     "text": [
      "Input the number of elements to be stored in the array :5\n",
      "element - 0 :\n",
      "25\n",
      "element - 1 :\n",
      "47\n",
      "element - 2 :\n",
      "42\n",
      "element - 3 :\n",
      "56\n",
      "element - 4 :\n",
      "32\n",
      "[25, 47, 42, 56, 32]\n",
      "The Even elements are: [42, 56, 32]\n",
      "The odd elements are: [25, 47]\n"
     ]
    }
   ],
   "source": [
    "a = []\n",
    "n = int(input(\"Input the number of elements to be stored in the array :\"))\n",
    "for i in range(0,n):\n",
    "    print(f'element - {i} :')\n",
    "    item = int(input())\n",
    "    a.append(item)\n",
    "\n",
    "print(a)\n",
    "odd = []\n",
    "even = []\n",
    "for k in a:\n",
    "    if k%2 ==0:\n",
    "        even.append(k)\n",
    "    else:\n",
    "        odd.append(k)\n",
    "\n",
    "print(f'The Even elements are: {even}')\n",
    "print(f'The odd elements are: {odd}')      \n",
    "    \n",
    "    \n"
   ]
  },
  {
   "cell_type": "markdown",
   "id": "195e8fac",
   "metadata": {},
   "source": [
    "# Question 5 \n",
    "Write a function inside(x,y,x1,y1,x2,y2) that returns True or False \n",
    "depending on whether the point (x,y) lies in the rectangle with lower left \n",
    "corner (x1,y1) and upper right corner (x2,y2).\n",
    ">>> inside(1,1,0,0,2,3)\n",
    "True\n",
    ">>> inside(-1,-1,0,0,2,3)\n",
    "False"
   ]
  },
  {
   "cell_type": "code",
   "execution_count": 53,
   "id": "d539be10",
   "metadata": {},
   "outputs": [
    {
     "data": {
      "text/plain": [
       "True"
      ]
     },
     "execution_count": 53,
     "metadata": {},
     "output_type": "execute_result"
    }
   ],
   "source": [
    " def  inside(x,y,x1,y1,x2,y2):\n",
    "    if (x>x1 and x<x2 and y>y1 and y<y2):\n",
    "        return True\n",
    "    else:\n",
    "        return False\n",
    "    \n",
    "    \n",
    "inside(1,1,0,0,2,3)"
   ]
  },
  {
   "cell_type": "markdown",
   "id": "333f1aeb",
   "metadata": {},
   "source": [
    "b. Use function inside() from part a. to write an expression that tests whether \n",
    "the point (1,1) lies in both of the following rectangles: one with lower left \n",
    "corner (0.3, 0.5) and upper right corner (1.1, 0.7) and the other with lower \n",
    "left corner (0.5, 0.2) and upper right corner (1.1, 2). "
   ]
  },
  {
   "cell_type": "code",
   "execution_count": 88,
   "id": "ab3316a2",
   "metadata": {},
   "outputs": [
    {
     "name": "stdout",
     "output_type": "stream",
     "text": [
      "The point does not lie in both rectangles\n"
     ]
    }
   ],
   "source": [
    "def  inside(x,y,x1,y1,x2,y2):\n",
    "    if (x>x1 and x<x2 and y>y1 and y<y2):\n",
    "        return True\n",
    "    else:\n",
    "        return False\n",
    "    \n",
    "if inside(1,1,0.3, 0.5,1.1, 0.7) is True and  inside(1,1,0.5, 0.2,1.1, 2) is True:\n",
    "    print(\"The point lies in both rectangles\")\n",
    "else:\n",
    "    print(\"The point does not lie in both rectangles\")"
   ]
  },
  {
   "cell_type": "markdown",
   "id": "7a555bfa",
   "metadata": {},
   "source": [
    "# Question 6\n",
    "16. You can turn a word into pig-Latin using the following two rules (simplified):\n",
    "• If the word starts with a consonant, move that letter to the end and append \n",
    "'ay'. For example, 'happy' becomes 'appyhay' and 'pencil' becomes 'encilpay'.\n",
    "• If the word starts with a vowel, simply append 'way' to the end of the word. \n",
    "For example, 'enter' becomes 'enterway' and 'other' becomes 'otherway' . For \n",
    "our purposes, there are 5 vowels: a, e, i, o, u (so we count y as a consonant).\n",
    "Write a function pig() that takes a word (i.e., a string) as input and returns its pig\u0002Latin form. Your function should still work if the input word contains upper case \n",
    "characters. Your output should always be lower case however."
   ]
  },
  {
   "cell_type": "code",
   "execution_count": 87,
   "id": "b5cf79c2",
   "metadata": {},
   "outputs": [
    {
     "name": "stdout",
     "output_type": "stream",
     "text": [
      "elloHay\n"
     ]
    }
   ],
   "source": [
    "def pig(word):\n",
    "    \n",
    "    word.casefold()\n",
    "    for i in word:\n",
    "        if i[0] in ['a','e','i','o','u','A','E','I','O','U']:\n",
    "            print(word[0:]+\"way\")\n",
    "            break\n",
    "        else:\n",
    "            print(word[1:] + word[0] + \"ay\")\n",
    "            break\n",
    "\n",
    "pig('Hello')\n",
    "            \n",
    "\n",
    "        \n",
    "   "
   ]
  },
  {
   "cell_type": "markdown",
   "id": "883eedd9",
   "metadata": {},
   "source": [
    "# Question 7\n",
    "File bloodtype1.txt records blood-types of patients (A, B, AB, O or OO) at a clinic. \n",
    "Write a function bldcount() that reads the file with name name and reports (i.e., \n",
    "prints) how many patients there are in each bloodtype.\n",
    ">>> bldcount('bloodtype.txt')\n",
    "There are 10 patients of blood type A.\n",
    "There is one patient of blood type B.\n",
    "There are 10 patients of blood type AB.\n",
    "There are 12 patients of blood type O.\n",
    "There are no patients of blood type OO."
   ]
  },
  {
   "cell_type": "code",
   "execution_count": 36,
   "id": "e6d017bd",
   "metadata": {},
   "outputs": [
    {
     "name": "stdout",
     "output_type": "stream",
     "text": [
      "[[15, 'A'], [13, 'AB'], [15, 'O'], [1, 'B']]\n"
     ]
    }
   ],
   "source": [
    "file = open('bloodtype1.txt','r')\n",
    "list1 = []\n",
    "for x in file:\n",
    "    x_strip = x.strip()\n",
    "    x_split = x_strip.split()\n",
    "    list1.append(x_split)\n",
    " \n",
    "file.close() \n",
    "\n",
    "list2 = list1[0]\n",
    "\n",
    "\n",
    "def  bldcount():\n",
    "    count = [[list2.count(item),item] for item in set(list2)]\n",
    "    print(count)\n",
    "    \n",
    "            \n",
    "bldcount()            \n",
    "        \n",
    "        \n",
    "\n",
    "        "
   ]
  },
  {
   "cell_type": "markdown",
   "id": "7d68398a",
   "metadata": {},
   "source": [
    "# Question 8\n",
    "Write a function curconv() that takes as input:\n",
    "1. a currency represented using a string (e.g., 'JPY' for the Japanese Yen or \n",
    "'EUR' for the Euro)\n",
    "2. an amount\n",
    "and then converts and returns the amount in US dollars."
   ]
  },
  {
   "cell_type": "code",
   "execution_count": 10,
   "id": "88660f6a",
   "metadata": {},
   "outputs": [
    {
     "data": {
      "text/plain": [
       "122.96544"
      ]
     },
     "execution_count": 10,
     "metadata": {},
     "output_type": "execute_result"
    }
   ],
   "source": [
    "def curconv(currency,amount):\n",
    "    file= open('currencies.txt','r')\n",
    "    data = file.readlines()\n",
    "    list1 = []\n",
    "    dict1 = {}\n",
    "    for i in data:\n",
    "        list1.append(i.split('\\t'))\n",
    "    for k in list1:\n",
    "        dict1[k[0]]= float(k[1])\n",
    "    for key , value in dict1.items():\n",
    "        if key== currency:\n",
    "            return dict1[key]*amount\n",
    "\n",
    "        \n",
    "curconv('EUR',100)        "
   ]
  },
  {
   "cell_type": "markdown",
   "id": "d1929eff",
   "metadata": {},
   "source": [
    "# Question 9\n",
    "Each of the following will cause an exception (an error). Identify what type of \n",
    "exception each will cause.\n",
    "Trying to add incompatible variables, as in \n",
    "adding 6 + ‘a’\n",
    "Referring to the 12th item of a list that has only 10 \n",
    "items\n",
    "Using a value that is out of range for a function’s \n",
    "input, such as calling math.sqrt(-1.0)\n",
    "Using an undeclared variable, such as print(x)\n",
    "when x has not been defined \n",
    "Trying to open a file that does not exist, such as \n",
    "mistyping the file name or looking in the wrong \n",
    "directory."
   ]
  },
  {
   "cell_type": "code",
   "execution_count": null,
   "id": "7094f671",
   "metadata": {},
   "outputs": [],
   "source": [
    "(a)Trying to add incompatible variables, as in adding 6 + ‘a’\n",
    "6+ 'a'\n",
    " Answer:unsupported operand type(s) for +: 'int' and 'str'\n",
    "\n",
    "(b)Referring to the 12th item of a list that has only 10 items\n",
    "a = []\n",
    "for i in range (11):\n",
    "    a.append(i)\n",
    "print(a)\n",
    "print(a[12])\n",
    "Answer: list index out of range.\n",
    "\n",
    "(c)Using a value that is out of range for a function’s input, such as calling math.sqrt(-1.0)\n",
    "import math\n",
    "math.sqrt(-1.0)\n",
    "Answer:math domain error\n",
    "\n",
    "(d):Using an undeclared variable, such as print(x)when x has not been defined .\n",
    "print(x)\n",
    "Answer : NameError: name 'z' is not defined\n",
    "(e):Trying to open a file that does not exist, such as mistyping the file name or looking in the wrong directory. \n",
    "Answer: Either the script lacks the permissions to create a file in that directory, or the directory simply doesn't exist. \n",
    "\n",
    "\n",
    "\n",
    "\n",
    "\n"
   ]
  },
  {
   "cell_type": "markdown",
   "id": "0f845ace",
   "metadata": {},
   "source": [
    "# Question 10\n",
    "Encryption is the process of hiding the meaning of a text by substituting letters in the \n",
    "message with other letters, according to some system. If the process is successful, no \n",
    "one but the intended recipient can understand the encrypted message. Cryptanalysis\n",
    "refers to attempts to undo the encryption, even if some details of the encryption are \n",
    "unknown (for example, if an encrypted message has been intercepted). The first step \n",
    "of cryptanalysis is often to build up a table of letter frequencies in the encrypted text. \n",
    "Assume that the string letters is already defined as \n",
    "'abcdefghijklmnopqrstuvwxyz'. Write a function called frequencies()\n",
    "that takes a string as its only parameter, and returns a list of integers, showing the \n",
    "number of times each character appears in the text. Your function may ignore any \n",
    "characters that are not in letters."
   ]
  },
  {
   "cell_type": "code",
   "execution_count": 31,
   "id": "9763df9a",
   "metadata": {},
   "outputs": [
    {
     "data": {
      "text/plain": [
       "[1, 1, 1, 3, 5, 1, 1, 2, 1, 0, 1, 0, 1, 2, 4, 0, 1, 2, 0, 3, 1, 0, 1, 1, 0, 0]"
      ]
     },
     "execution_count": 31,
     "metadata": {},
     "output_type": "execute_result"
    }
   ],
   "source": [
    "def frequencies(a):\n",
    "    dict1= {'A':0,'B':0,'C':0 ,'D':0,'E':0,'F':0,'G':0,'H':0,'I':0,'J':0,'K':0,'L':0,'M':0,'N':0,'O':0,'P':0,\n",
    "            'Q':0,'R':0,'S':0,'T':0,'U':0,'V':0,'W':0,'X':0,'Y':0,'Z':0}\n",
    "    list1 =[]\n",
    "    for i in a:\n",
    "        for key,value in dict1.items():\n",
    "            if key ==i.upper():\n",
    "                dict1[key]= dict1[key]+ 1\n",
    "    for key,value in dict1.items():\n",
    "        list1.append(dict1[key])\n",
    "    return list1\n",
    "\n",
    "frequencies('The quick red fox got bored and went home.')"
   ]
  },
  {
   "cell_type": "code",
   "execution_count": null,
   "id": "ff3d8bd7",
   "metadata": {},
   "outputs": [],
   "source": [
    "\n"
   ]
  },
  {
   "cell_type": "code",
   "execution_count": null,
   "id": "2729100c",
   "metadata": {},
   "outputs": [],
   "source": []
  },
  {
   "cell_type": "code",
   "execution_count": null,
   "id": "cb102dc5",
   "metadata": {},
   "outputs": [],
   "source": []
  }
 ],
 "metadata": {
  "kernelspec": {
   "display_name": "Python 3 (ipykernel)",
   "language": "python",
   "name": "python3"
  },
  "language_info": {
   "codemirror_mode": {
    "name": "ipython",
    "version": 3
   },
   "file_extension": ".py",
   "mimetype": "text/x-python",
   "name": "python",
   "nbconvert_exporter": "python",
   "pygments_lexer": "ipython3",
   "version": "3.9.12"
  }
 },
 "nbformat": 4,
 "nbformat_minor": 5
}
